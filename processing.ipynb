{
 "cells": [
  {
   "cell_type": "markdown",
   "metadata": {},
   "source": [
    "# Data preparing"
   ]
  },
  {
   "cell_type": "markdown",
   "metadata": {},
   "source": [
    "데이터 전처리 코드"
   ]
  },
  {
   "cell_type": "code",
   "execution_count": null,
   "metadata": {},
   "outputs": [],
   "source": [
    "import re\n",
    "import json\n",
    "import pandas as pd\n",
    "from sklearn.model_selection import train_test_split\n",
    "\n",
    "df = pd.read_csv('data/paradetox/paradetox.tsv', sep='\\t')\n",
    "\n",
    "# Deduplicating\n",
    "df = df.drop_duplicates()\n",
    "# Drop empty rows\n",
    "df = df[(df['toxic'] != '')]\n",
    "\n",
    "# function for text cleaning\n",
    "def clean_text(text):\n",
    "    try:\n",
    "        # 특수 문자 제거 (기본적인 구두점은 유지)\n",
    "        text = re.sub(r'[^\\w\\s.,!?-]', '', text)\n",
    "        # 중복 공백 제거\n",
    "        text = re.sub(r'\\s+', ' ', text)\n",
    "        \n",
    "        return text.strip()\n",
    "    except:\n",
    "        return text\n",
    "\n",
    "df['toxic'] = df['toxic'].apply(clean_text)\n",
    "df['neutral1'] = df['neutral1'].apply(clean_text)\n",
    "df['neutral2'] = df['neutral2'].apply(clean_text)\n",
    "df['neutral3'] = df['neutral3'].apply(clean_text)\n",
    "\n",
    "# 너무 짧거나 긴 문장 필터링\n",
    "mask = (df['toxic'].str.len() > 5) & (df['toxic'].str.len() < 500)\n",
    "df = df[mask]\n",
    "df['references'] = df.iloc[:, 1:].apply(lambda r: r.dropna().tolist(), axis=1)\n",
    "\n",
    "train, valid_test = train_test_split(df, test_size=0.2, random_state=426)\n",
    "valid, test = train_test_split(valid_test, test_size=0.5, random_state=426)\n",
    "\n",
    "print(len(train), len(valid), len(test))\n",
    "\n",
    "train_dict = train.to_dict(orient='records')\n",
    "valid_dict = valid.to_dict(orient='records')\n",
    "test_dict = test.to_dict(orient='records')\n",
    "\n",
    "with open('train.json', 'w') as f:\n",
    "    json.dump(train_dict, f, indent=4, ensure_ascii=False)\n",
    "\n",
    "with open('valid.json', 'w') as f:\n",
    "    json.dump(valid_dict, f, indent=4, ensure_ascii=False)\n",
    "    \n",
    "with open('test.json', 'w') as f:\n",
    "    json.dump(test_dict, f, indent=4, ensure_ascii=False)"
   ]
  }
 ],
 "metadata": {
  "kernelspec": {
   "display_name": "kook",
   "language": "python",
   "name": "python3"
  },
  "language_info": {
   "codemirror_mode": {
    "name": "ipython",
    "version": 3
   },
   "file_extension": ".py",
   "mimetype": "text/x-python",
   "name": "python",
   "nbconvert_exporter": "python",
   "pygments_lexer": "ipython3",
   "version": "3.10.0"
  }
 },
 "nbformat": 4,
 "nbformat_minor": 2
}
